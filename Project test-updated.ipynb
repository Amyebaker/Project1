{
 "cells": [
  {
   "cell_type": "code",
   "execution_count": null,
   "id": "01164701",
   "metadata": {},
   "outputs": [],
   "source": [
    "# Import Dependencies\n",
    "import matplotlib.pyplot as plt\n",
    "import pandas as pd\n",
    "import numpy as np\n",
    "import scipy.stats as st\n",
    "from scipy import stats\n",
    "from pprint import pprint"
   ]
  },
  {
   "cell_type": "code",
   "execution_count": null,
   "id": "e9ebde3f",
   "metadata": {},
   "outputs": [],
   "source": [
    "# Make a reference to the comic_books_expanded.csv file path\n",
    "income = \"US Counties Education vs. Income.csv\"\n",
    "costindex = \"data.csv\""
   ]
  },
  {
   "cell_type": "code",
   "execution_count": null,
   "id": "6595b09c",
   "metadata": {},
   "outputs": [],
   "source": [
    "# Import the comic_books_expanded.csv file as a DataFrame\n",
    "income_df = pd.read_csv(income)\n",
    "costindex_df = pd.read_csv(costindex)"
   ]
  },
  {
   "cell_type": "code",
   "execution_count": null,
   "id": "68bab4d3",
   "metadata": {},
   "outputs": [],
   "source": [
    "# Check the special characters imported correctly\n",
    "income_df.head()"
   ]
  },
  {
   "cell_type": "code",
   "execution_count": null,
   "id": "0376524c",
   "metadata": {},
   "outputs": [],
   "source": [
    "costindex_df.head()"
   ]
  },
  {
   "cell_type": "code",
   "execution_count": null,
   "id": "f2d70aff",
   "metadata": {},
   "outputs": [],
   "source": [
    "# Remove unecessary columns from the DataFrame and save the new DataFrame\n",
    "# Only keep: \"state\",\"costIndex\" \n",
    "\n",
    "cost_reduced_df =costindex_df[[\"state\", \"costIndex\" ]]\n",
    "cost_reduced_df.head()"
   ]
  },
  {
   "cell_type": "code",
   "execution_count": null,
   "id": "e4e4b5c9",
   "metadata": {},
   "outputs": [],
   "source": [
    "us_state_to_abbrev = {\n",
    "    \"Alabama\": \"AL\",\n",
    "    \"Alaska\": \"AK\",\n",
    "    \"Arizona\": \"AZ\",\n",
    "    \"Arkansas\": \"AR\",\n",
    "    \"California\": \"CA\",\n",
    "    \"Colorado\": \"CO\",\n",
    "    \"Connecticut\": \"CT\",\n",
    "    \"Delaware\": \"DE\",\n",
    "    \"Florida\": \"FL\",\n",
    "    \"Georgia\": \"GA\",\n",
    "    \"Hawaii\": \"HI\",\n",
    "    \"Idaho\": \"ID\",\n",
    "    \"Illinois\": \"IL\",\n",
    "    \"Indiana\": \"IN\",\n",
    "    \"Iowa\": \"IA\",\n",
    "    \"Kansas\": \"KS\",\n",
    "    \"Kentucky\": \"KY\",\n",
    "    \"Louisiana\": \"LA\",\n",
    "    \"Maine\": \"ME\",\n",
    "    \"Maryland\": \"MD\",\n",
    "    \"Massachusetts\": \"MA\",\n",
    "    \"Michigan\": \"MI\",\n",
    "    \"Minnesota\": \"MN\",\n",
    "    \"Mississippi\": \"MS\",\n",
    "    \"Missouri\": \"MO\",\n",
    "    \"Montana\": \"MT\",\n",
    "    \"Nebraska\": \"NE\",\n",
    "    \"Nevada\": \"NV\",\n",
    "    \"New Hampshire\": \"NH\",\n",
    "    \"New Jersey\": \"NJ\",\n",
    "    \"New Mexico\": \"NM\",\n",
    "    \"New York\": \"NY\",\n",
    "    \"North Carolina\": \"NC\",\n",
    "    \"North Dakota\": \"ND\",\n",
    "    \"Ohio\": \"OH\",\n",
    "    \"Oklahoma\": \"OK\",\n",
    "    \"Oregon\": \"OR\",\n",
    "    \"Pennsylvania\": \"PA\",\n",
    "    \"Rhode Island\": \"RI\",\n",
    "    \"South Carolina\": \"SC\",\n",
    "    \"South Dakota\": \"SD\",\n",
    "    \"Tennessee\": \"TN\",\n",
    "    \"Texas\": \"TX\",\n",
    "    \"Utah\": \"UT\",\n",
    "    \"Vermont\": \"VT\",\n",
    "    \"Virginia\": \"VA\",\n",
    "    \"Washington\": \"WA\",\n",
    "    \"West Virginia\": \"WV\",\n",
    "    \"Wisconsin\": \"WI\",\n",
    "    \"Wyoming\": \"WY\",\n",
    "    \"District of Columbia\": \"DC\",\n",
    "    \"American Samoa\": \"AS\",\n",
    "    \"Guam\": \"GU\",\n",
    "    \"Northern Mariana Islands\": \"MP\",\n",
    "    \"Puerto Rico\": \"PR\",\n",
    "    \"United States Minor Outlying Islands\": \"UM\",\n",
    "    \"U.S. Virgin Islands\": \"VI\",\n",
    "}\n",
    "    \n",
    "# invert the dictionary\n",
    "abbrev_to_us_state = dict(map(reversed, us_state_to_abbrev.items()))"
   ]
  },
  {
   "cell_type": "code",
   "execution_count": null,
   "id": "33c328c0",
   "metadata": {},
   "outputs": [],
   "source": [
    "# Change state to abbreviation\n",
    "new_cost_df =cost_reduced_df.replace({\"state\": us_state_to_abbrev})\n",
    "new_cost_df.head()"
   ]
  },
  {
   "cell_type": "code",
   "execution_count": null,
   "id": "418844e7",
   "metadata": {},
   "outputs": [],
   "source": [
    "# Merge the two data sets\n",
    "merged_df = pd.merge(income_df, new_cost_df, on=[\"state\"])\n",
    "merged_df.head()"
   ]
  },
  {
   "cell_type": "code",
   "execution_count": null,
   "id": "386465a7",
   "metadata": {},
   "outputs": [],
   "source": [
    "# Calculate the adjusted per capita income\n",
    "merged_df[\"Adjusted per capita income 2021\"] = merged_df['per_capita_personal_income_2021']/merged_df['costIndex']*100\n",
    "merged_df"
   ]
  },
  {
   "cell_type": "code",
   "execution_count": null,
   "id": "1786c436",
   "metadata": {},
   "outputs": [],
   "source": [
    "# Then Format to go to two decimal places, include a dollar sign, and use comma notation\n",
    "merged_df['Adjusted per capita income 2021'] = merged_df['Adjusted per capita income 2021'].astype('float64').map(\"${:,.2f}\".format)\n",
    "merged_df"
   ]
  },
  {
   "cell_type": "code",
   "execution_count": null,
   "id": "dcc744a5",
   "metadata": {},
   "outputs": [],
   "source": [
    "# Rename column bachelor_degree_percentage_2015_2019 to bachelor_degree_percentage_2016_2019\n",
    "renamed_df = merged_df.rename(columns={\"bachelor_degree_percentage_2015_2019\": \"bachelor_degree_percentage_2016_2020\"})\n",
    "renamed_df"
   ]
  },
  {
   "cell_type": "code",
   "execution_count": null,
   "id": "77020c23",
   "metadata": {},
   "outputs": [],
   "source": [
    "# Remove columns that not needed\n",
    "final_df = renamed_df[[\"state\",\"county\",\"per_capita_personal_income_2021\",\"associate_degree_numbers_2016_2020\",\\\n",
    "                     \"bachelor_degree_numbers_2016_2020\",\"associate_degree_percentage_2016_2020\",\"bachelor_degree_percentage_2016_2020\",\\\n",
    "                     \"costIndex\",\"Adjusted per capita income 2021\"]].copy()\n",
    "final_df.head()"
   ]
  },
  {
   "cell_type": "code",
   "execution_count": null,
   "id": "20a5206a",
   "metadata": {},
   "outputs": [],
   "source": [
    "# Creating a dictionary to rename columns\n",
    "col_dict = {\"per_capita_personal_income_2021\":\"Per Capita Income 2021\",\n",
    "               \"associate_degree_numbers_2016_2020\":\"Count of Associate Degrees\",\n",
    "               \"bachelor_degree_numbers_2016_2020\":\"Count of Bachelor Degrees\",\n",
    "               \"associate_degree_percentage_2016_2020\":\"Percent of Associate Degrees\",\n",
    "               \"bachelor_degree_percentage_2016_2020\":\"Percent of Bachelor Degrees\"\n",
    "              }"
   ]
  },
  {
   "cell_type": "code",
   "execution_count": null,
   "id": "d28e5fa2",
   "metadata": {},
   "outputs": [],
   "source": [
    "final_df.rename(columns = col_dict, inplace=True)"
   ]
  },
  {
   "cell_type": "code",
   "execution_count": null,
   "id": "f0290e68",
   "metadata": {},
   "outputs": [],
   "source": [
    "# Using the group by to find the averages by state\n",
    "state_avgs = final_df.groupby([\"state\"]).mean()\n",
    "state_avgs.head()"
   ]
  },
  {
   "cell_type": "code",
   "execution_count": null,
   "id": "0122df1d",
   "metadata": {},
   "outputs": [],
   "source": [
    "# finding correlation coefficient for Associate degree\n",
    "(slope, interecept,rvalue,pvalue,stderr) = stats.linregress(state_avgs[\"Percent of Associate Degrees\"],state_avgs[\"Adjusted Per Capita Personal Income 2021\"])\n",
    "y_pred = slope*state_avgs[\"Percent of Associate Degrees\"]+interecept"
   ]
  },
  {
   "cell_type": "code",
   "execution_count": null,
   "id": "9e36f55c",
   "metadata": {},
   "outputs": [],
   "source": [
    "plt.scatter(state_avgs[\"Percent of Associate Degrees\"],state_avgs[\"Adjusted Per Capita Personal Income 2021\"])\n",
    "plt.plot(state_avgs[\"Percent of Associate Degrees\"],y_pred,color=\"red\")\n",
    "print(f'R-Squared is {rvalue**2}')\n",
    "plt.show()"
   ]
  },
  {
   "cell_type": "code",
   "execution_count": null,
   "id": "c37a059c",
   "metadata": {},
   "outputs": [],
   "source": [
    "# Finding correlation coefficient for Bachelor degree\n",
    "(slope, interecept,rvalue,pvalue,stderr) = stats.linregress(state_avgs[\"Percent of Bachelor Degrees\"],state_avgs[\"Adjusted Per Capita Personal Income 2021\"])\n",
    "y_pred = slope*state_avgs[\"Percent of Bachelor Degrees\"]+interecept"
   ]
  },
  {
   "cell_type": "code",
   "execution_count": null,
   "id": "de310797",
   "metadata": {},
   "outputs": [],
   "source": [
    "plt.scatter(state_avgs[\"Percent of Bachelor Degrees\"],state_avgs[\"Adjusted Per Capita Personal Income 2021\"])\n",
    "print(f'R-Squared is {rvalue**2}')\n",
    "plt.show()"
   ]
  },
  {
   "cell_type": "markdown",
   "id": "4259173a",
   "metadata": {},
   "source": [
    "Split states into regions"
   ]
  },
  {
   "cell_type": "code",
   "execution_count": null,
   "id": "675d59d4",
   "metadata": {},
   "outputs": [],
   "source": [
    "# Use the Pandas copy function to create DataFrame called region_df to store region\n",
    "region_df= final_df.copy()\n",
    "# Add an empty column, \"region,\" to the DataFrame so you can store the region the state belong\n",
    "region_df['region']= \"\"\n",
    "# Display sample data\n",
    "region_df"
   ]
  },
  {
   "cell_type": "code",
   "execution_count": null,
   "id": "8f8eab77",
   "metadata": {},
   "outputs": [],
   "source": [
    "# Add region to the DataFrame\n",
    "\n",
    "South= ['WV', 'DC', 'MD', 'VA', 'KY', 'TN', 'NC', 'MS', 'AR', 'LA', 'AL', 'GA', 'SC', 'FL', 'DE']   \n",
    "Southwest= ['AZ', 'NM', 'OK', 'TX']    \n",
    "West= ['WA', 'OR', 'CA', 'NV', 'ID', 'MT', 'WY', 'UT', 'CO', 'AK', 'HI']    \n",
    "Midwest= ['ND', 'SD', 'NE', 'KS', 'MN', 'IA', 'MO', 'WI', 'IL', 'MI', 'IN', 'OH']    \n",
    "Northeast= ['ME', 'VT', 'NY', 'NH', 'MA', 'RI', 'CT', 'NJ', 'PA']\n",
    "\n",
    "\n",
    "region_df['region'] = np.where(region_df['state'].isin(South), 'South', np. NaN)\n",
    "region_df['region'] = np.where(region_df['state'].isin(Southwest), 'Southwest', region_df['region'])                               \n",
    "region_df['region'] = np.where(region_df['state'].isin(West), 'West', region_df['region'])                               \n",
    "region_df['region'] = np.where(region_df['state'].isin(Midwest), 'Midwest', region_df['region'] )                              \n",
    "region_df['region'] = np.where(region_df['state'].isin(Northeast), 'Northeast', region_df['region'])\n",
    "\n",
    "\n",
    "region_df.head()    \n",
    "        \n",
    "      \n"
   ]
  },
  {
   "cell_type": "code",
   "execution_count": null,
   "id": "0d6cb670",
   "metadata": {},
   "outputs": [],
   "source": [
    "# Split DataFrame into regions\n",
    "south_region_df = region_df.loc[region_df[\"region\"]== \"South\", :]\n",
    "\n",
    "# Display sample data\n",
    "south_region_df.head()"
   ]
  },
  {
   "cell_type": "code",
   "execution_count": null,
   "id": "9e8069d2",
   "metadata": {},
   "outputs": [],
   "source": [
    "southwest_region_df = region_df.loc[region_df[\"region\"]== \"Southwest\", :]\n",
    "southwest_region_df.head()"
   ]
  },
  {
   "cell_type": "code",
   "execution_count": null,
   "id": "6cff1d49",
   "metadata": {},
   "outputs": [],
   "source": [
    "west_region_df = region_df.loc[region_df[\"region\"]== \"West\", :]\n",
    "west_region_df.head()"
   ]
  },
  {
   "cell_type": "code",
   "execution_count": null,
   "id": "084e0776",
   "metadata": {},
   "outputs": [],
   "source": [
    "midwest_region_df = region_df.loc[region_df[\"region\"]== \"Midwest\", :]\n",
    "midwest_region_df.head()"
   ]
  },
  {
   "cell_type": "code",
   "execution_count": null,
   "id": "315e4909",
   "metadata": {},
   "outputs": [],
   "source": [
    "northeast_region_df = region_df.loc[region_df[\"region\"]== \"Northeast\", :]\n",
    "northeast_region_df.head()"
   ]
  },
  {
   "cell_type": "code",
   "execution_count": null,
   "id": "01ab4eb6",
   "metadata": {},
   "outputs": [],
   "source": []
  },
  {
   "cell_type": "code",
   "execution_count": null,
   "id": "7667e686",
   "metadata": {},
   "outputs": [],
   "source": []
  }
 ],
 "metadata": {
  "kernelspec": {
   "display_name": "PythonData",
   "language": "python",
   "name": "pythondata"
  },
  "language_info": {
   "codemirror_mode": {
    "name": "ipython",
    "version": 3
   },
   "file_extension": ".py",
   "mimetype": "text/x-python",
   "name": "python",
   "nbconvert_exporter": "python",
   "pygments_lexer": "ipython3",
   "version": "3.9.13"
  }
 },
 "nbformat": 4,
 "nbformat_minor": 5
}
